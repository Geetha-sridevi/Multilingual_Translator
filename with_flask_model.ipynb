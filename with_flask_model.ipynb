{
  "nbformat": 4,
  "nbformat_minor": 0,
  "metadata": {
    "colab": {
      "provenance": []
    },
    "kernelspec": {
      "name": "python3",
      "display_name": "Python 3"
    },
    "language_info": {
      "name": "python"
    }
  },
  "cells": [
    {
      "cell_type": "code",
      "source": [
        "!pip install flask pyngrok transformers sentencepiece torch --quiet"
      ],
      "metadata": {
        "id": "xkSLAQJyeWgr"
      },
      "execution_count": null,
      "outputs": []
    },
    {
      "cell_type": "code",
      "source": [
        "%%writefile app.py\n",
        "from flask import Flask, render_template, request\n",
        "from transformers import MarianMTModel, MarianTokenizer\n",
        "import functools\n",
        "\n",
        "app = Flask(__name__)\n",
        "\n",
        "LANGS = {\n",
        "    \"English\": \"en\",\n",
        "    \"Hindi\": \"hi\",\n",
        "    \"French\": \"fr\",\n",
        "    \"Spanish\": \"es\",\n",
        "    \"German\": \"de\",\n",
        "    \"Italian\": \"it\",\n",
        "    \"Portuguese\": \"pt\",\n",
        "    \"Russian\": \"ru\",\n",
        "}\n",
        "\n",
        "# Cache models so they don’t reload every request\n",
        "@functools.lru_cache(maxsize=20)\n",
        "def load_model(src, tgt):\n",
        "    model_name = f\"Helsinki-NLP/opus-mt-{src}-{tgt}\"\n",
        "    tokenizer = MarianTokenizer.from_pretrained(model_name)\n",
        "    model = MarianMTModel.from_pretrained(model_name)\n",
        "    return model, tokenizer\n",
        "\n",
        "\n",
        "\n",
        "# model_name = f\"Helsinki-NLP/opus-mt-{src}-{tgt}\"`\n",
        "\n",
        "# Builds the HuggingFace model name dynamically. Example:\n",
        "\n",
        "# Helsinki-NLP/opus-mt-en-hi` → English to Hindi model.\n",
        "\n",
        "\n",
        "# Main Route (Homepage)\n",
        "@app.route(\"/\", methods=[\"GET\", \"POST\"])\n",
        "def home():\n",
        "    translation = \"\"\n",
        "    if request.method == \"POST\":\n",
        "        src_lang = request.form[\"src_lang\"]\n",
        "        tgt_lang = request.form[\"tgt_lang\"]\n",
        "        text = request.form[\"text\"]\n",
        "\n",
        "        try:\n",
        "            src_code = LANGS[src_lang]\n",
        "            tgt_code = LANGS[tgt_lang]\n",
        "            model, tokenizer = load_model(src_code, tgt_code)\n",
        "\n",
        "            inputs = tokenizer(text, return_tensors=\"pt\", padding=True)\n",
        "            translated_tokens = model.generate(**inputs, max_length=256)\n",
        "            translation = tokenizer.decode(translated_tokens[0], skip_special_tokens=True)\n",
        "        except Exception as e:\n",
        "            translation = f\"❌ Error: {e}\"\n",
        "\n",
        "    return render_template(\"index.html\", langs=LANGS.keys(), translation=translation)\n",
        "\n",
        "if __name__ == \"__main__\":\n",
        "    app.run(host=\"0.0.0.0\", port=8000, debug=False)\n"
      ],
      "metadata": {
        "colab": {
          "base_uri": "https://localhost:8080/"
        },
        "id": "dSTSpye2arjY",
        "outputId": "df626c31-fdae-4654-f8bf-50e51a70adc7"
      },
      "execution_count": null,
      "outputs": [
        {
          "output_type": "stream",
          "name": "stdout",
          "text": [
            "Writing app.py\n"
          ]
        }
      ]
    },
    {
      "cell_type": "code",
      "source": [
        "!mkdir -p templates\n",
        "!mkdir -p static\n"
      ],
      "metadata": {
        "id": "N6jNikBVb96t"
      },
      "execution_count": null,
      "outputs": []
    },
    {
      "cell_type": "code",
      "source": [
        "%%writefile templates/index.html\n",
        "<!DOCTYPE html>\n",
        "<html>\n",
        "<head>\n",
        "    <title>🌍 Multilingual Translator</title>\n",
        "    <link rel=\"stylesheet\" href=\"{{ url_for('static', filename='style.css') }}\">\n",
        "</head>\n",
        "<body>\n",
        "    <div class=\"container\">\n",
        "        <h1>🌍 Multilingual Translator</h1>\n",
        "        <form method=\"post\" class=\"card\">\n",
        "            <label>Source Language:</label>\n",
        "            <select name=\"src_lang\">\n",
        "                {% for lang in langs %}\n",
        "                <option>{{ lang }}</option>\n",
        "                {% endfor %}\n",
        "            </select>\n",
        "\n",
        "            <label>Target Language:</label>\n",
        "            <select name=\"tgt_lang\">\n",
        "                {% for lang in langs %}\n",
        "                <option>{{ lang }}</option>\n",
        "                {% endfor %}\n",
        "            </select>\n",
        "\n",
        "            <textarea name=\"text\" rows=\"5\" placeholder=\"Enter text here...\"></textarea>\n",
        "            <button type=\"submit\">Translate 🚀</button>\n",
        "        </form>\n",
        "\n",
        "        {% if translation %}\n",
        "        <div class=\"result\">\n",
        "            <h2>✅ Translation:</h2>\n",
        "            <p>{{ translation }}</p>\n",
        "        </div>\n",
        "        {% endif %}\n",
        "    </div>\n",
        "</body>\n",
        "</html>\n"
      ],
      "metadata": {
        "colab": {
          "base_uri": "https://localhost:8080/"
        },
        "id": "0hsr8C-gb93Q",
        "outputId": "6d897165-5a25-4361-c3aa-09187caf6c0e"
      },
      "execution_count": null,
      "outputs": [
        {
          "output_type": "stream",
          "name": "stdout",
          "text": [
            "Writing templates/index.html\n"
          ]
        }
      ]
    },
    {
      "cell_type": "code",
      "source": [
        "%%writefile static/style.css\n",
        "body {\n",
        "    font-family: 'Segoe UI', sans-serif;\n",
        "    background: linear-gradient(135deg, #141E30, #243B55);\n",
        "    color: white;\n",
        "    display: flex;\n",
        "    justify-content: center;\n",
        "    align-items: center;\n",
        "    height: 100vh;\n",
        "    margin: 0;\n",
        "}\n",
        ".container {\n",
        "    text-align: center;\n",
        "    width: 60%;\n",
        "}\n",
        "h1 {\n",
        "    margin-bottom: 20px;\n",
        "}\n",
        ".card {\n",
        "    background: rgba(255, 255, 255, 0.1);\n",
        "    padding: 20px;\n",
        "    border-radius: 12px;\n",
        "    box-shadow: 0 0 15px rgba(0,0,0,0.4);\n",
        "}\n",
        "select, textarea, button {\n",
        "    width: 90%;\n",
        "    margin: 10px 0;\n",
        "    padding: 10px;\n",
        "    border-radius: 8px;\n",
        "    border: none;\n",
        "}\n",
        "button {\n",
        "    background: #FFD700;\n",
        "    cursor: pointer;\n",
        "    font-weight: bold;\n",
        "}\n",
        "button:hover {\n",
        "    background: #FFA500;\n",
        "}\n",
        ".result {\n",
        "    margin-top: 20px;\n",
        "    padding: 15px;\n",
        "    background: rgba(255,255,255,0.1);\n",
        "    border-radius: 10px;\n",
        "}\n"
      ],
      "metadata": {
        "colab": {
          "base_uri": "https://localhost:8080/"
        },
        "id": "PCASqHC1b90x",
        "outputId": "16e130ec-17bd-4201-9e83-4dbb2ebb2d1c"
      },
      "execution_count": null,
      "outputs": [
        {
          "output_type": "stream",
          "name": "stdout",
          "text": [
            "Writing static/style.css\n"
          ]
        }
      ]
    },
    {
      "cell_type": "code",
      "source": [
        "# ✅ Kill any running Flask/ngrok processes\n",
        "!pkill -f flask || echo \"No flask running\"\n",
        "!pkill -f ngrok || echo \"No ngrok running\"\n"
      ],
      "metadata": {
        "id": "1aprqh7ccOIC",
        "colab": {
          "base_uri": "https://localhost:8080/"
        },
        "outputId": "7e52a7d8-f1ef-45cb-94a1-9faca705940f"
      },
      "execution_count": null,
      "outputs": [
        {
          "output_type": "stream",
          "name": "stdout",
          "text": [
            "^C\n",
            "^C\n"
          ]
        }
      ]
    },
    {
      "cell_type": "code",
      "source": [
        "!lsof -i :8000\n"
      ],
      "metadata": {
        "id": "yOoLzdHbjWYG"
      },
      "execution_count": null,
      "outputs": []
    },
    {
      "cell_type": "code",
      "source": [
        "!kill -9 6798  # here ID no shud be changed based on the above cell { PID 1949 }\n"
      ],
      "metadata": {
        "id": "7eQMjOrEjXH_",
        "colab": {
          "base_uri": "https://localhost:8080/"
        },
        "outputId": "f43f7f91-49ee-4a2b-f84f-48fcfa455114"
      },
      "execution_count": null,
      "outputs": [
        {
          "output_type": "stream",
          "name": "stdout",
          "text": [
            "/bin/bash: line 1: kill: (6798) - No such process\n"
          ]
        }
      ]
    },
    {
      "cell_type": "code",
      "source": [
        "# ✅ Run Flask in the background and log output\n",
        "!nohup python app.py > flask.log 2>&1 &\n"
      ],
      "metadata": {
        "id": "7OTB-L2ni7s6"
      },
      "execution_count": null,
      "outputs": []
    },
    {
      "cell_type": "code",
      "source": [
        "# ✅ Start ngrok tunnel\n",
        "from pyngrok import ngrok, conf\n",
        "conf.get_default().auth_token = \"2ztgrogNy3iJnxaz8wchWgCw1X7_4vgQZE6DfL2kHMu2DmQzM\"\n",
        "\n",
        "public_url = ngrok.connect(8000)\n",
        "print(\"🌍 Public URL:\", public_url)\n",
        "\n",
        "# ✅ Check Flask logs (useful if error happens)\n",
        "!sleep 3 && tail -n 20 flask.log\n"
      ],
      "metadata": {
        "colab": {
          "base_uri": "https://localhost:8080/",
          "height": 515
        },
        "id": "GCIq6qxTcDul",
        "outputId": "32dd2f09-065a-4ff1-ff69-ee4f6f620f12"
      },
      "execution_count": null,
      "outputs": [
        {
          "output_type": "stream",
          "name": "stdout",
          "text": []
        },
        {
          "output_type": "stream",
          "name": "stderr",
          "text": [
            "ERROR:pyngrok.process.ngrok:t=2025-09-10T10:39:45+0000 lvl=eror msg=\"failed to reconnect session\" obj=tunnels.session err=\"authentication failed: Your account is limited to 1 simultaneous ngrok agent sessions.\\nYou can run multiple simultaneous tunnels from a single agent session by defining the tunnels in your agent configuration file and starting them with the command `ngrok start --all`.\\nRead more about the agent configuration file: https://ngrok.com/docs/secure-tunnels/ngrok-agent/reference/config\\nYou can view your current agent sessions in the dashboard:\\nhttps://dashboard.ngrok.com/agents\\r\\n\\r\\nERR_NGROK_108\\r\\n\"\n",
            "ERROR:pyngrok.process.ngrok:t=2025-09-10T10:39:45+0000 lvl=eror msg=\"session closing\" obj=tunnels.session err=\"authentication failed: Your account is limited to 1 simultaneous ngrok agent sessions.\\nYou can run multiple simultaneous tunnels from a single agent session by defining the tunnels in your agent configuration file and starting them with the command `ngrok start --all`.\\nRead more about the agent configuration file: https://ngrok.com/docs/secure-tunnels/ngrok-agent/reference/config\\nYou can view your current agent sessions in the dashboard:\\nhttps://dashboard.ngrok.com/agents\\r\\n\\r\\nERR_NGROK_108\\r\\n\"\n",
            "ERROR:pyngrok.process.ngrok:t=2025-09-10T10:39:45+0000 lvl=eror msg=\"terminating with error\" obj=app err=\"authentication failed: Your account is limited to 1 simultaneous ngrok agent sessions.\\nYou can run multiple simultaneous tunnels from a single agent session by defining the tunnels in your agent configuration file and starting them with the command `ngrok start --all`.\\nRead more about the agent configuration file: https://ngrok.com/docs/secure-tunnels/ngrok-agent/reference/config\\nYou can view your current agent sessions in the dashboard:\\nhttps://dashboard.ngrok.com/agents\\r\\n\\r\\nERR_NGROK_108\\r\\n\"\n",
            "CRITICAL:pyngrok.process.ngrok:t=2025-09-10T10:39:45+0000 lvl=crit msg=\"command failed\" err=\"authentication failed: Your account is limited to 1 simultaneous ngrok agent sessions.\\nYou can run multiple simultaneous tunnels from a single agent session by defining the tunnels in your agent configuration file and starting them with the command `ngrok start --all`.\\nRead more about the agent configuration file: https://ngrok.com/docs/secure-tunnels/ngrok-agent/reference/config\\nYou can view your current agent sessions in the dashboard:\\nhttps://dashboard.ngrok.com/agents\\r\\n\\r\\nERR_NGROK_108\\r\\n\"\n"
          ]
        },
        {
          "output_type": "error",
          "ename": "PyngrokNgrokError",
          "evalue": "The ngrok process errored on start: authentication failed: Your account is limited to 1 simultaneous ngrok agent sessions.\\nYou can run multiple simultaneous tunnels from a single agent session by defining the tunnels in your agent configuration file and starting them with the command `ngrok start --all`.\\nRead more about the agent configuration file: https://ngrok.com/docs/secure-tunnels/ngrok-agent/reference/config\\nYou can view your current agent sessions in the dashboard:\\nhttps://dashboard.ngrok.com/agents\\r\\n\\r\\nERR_NGROK_108\\r\\n.",
          "traceback": [
            "\u001b[0;31m---------------------------------------------------------------------------\u001b[0m",
            "\u001b[0;31mPyngrokNgrokError\u001b[0m                         Traceback (most recent call last)",
            "\u001b[0;32m/tmp/ipython-input-3150735685.py\u001b[0m in \u001b[0;36m<cell line: 0>\u001b[0;34m()\u001b[0m\n\u001b[1;32m      3\u001b[0m \u001b[0mconf\u001b[0m\u001b[0;34m.\u001b[0m\u001b[0mget_default\u001b[0m\u001b[0;34m(\u001b[0m\u001b[0;34m)\u001b[0m\u001b[0;34m.\u001b[0m\u001b[0mauth_token\u001b[0m \u001b[0;34m=\u001b[0m \u001b[0;34m\"2ztgrogNy3iJnxaz8wchWgCw1X7_4vgQZE6DfL2kHMu2DmQzM\"\u001b[0m\u001b[0;34m\u001b[0m\u001b[0;34m\u001b[0m\u001b[0m\n\u001b[1;32m      4\u001b[0m \u001b[0;34m\u001b[0m\u001b[0m\n\u001b[0;32m----> 5\u001b[0;31m \u001b[0mpublic_url\u001b[0m \u001b[0;34m=\u001b[0m \u001b[0mngrok\u001b[0m\u001b[0;34m.\u001b[0m\u001b[0mconnect\u001b[0m\u001b[0;34m(\u001b[0m\u001b[0;36m8000\u001b[0m\u001b[0;34m)\u001b[0m\u001b[0;34m\u001b[0m\u001b[0;34m\u001b[0m\u001b[0m\n\u001b[0m\u001b[1;32m      6\u001b[0m \u001b[0mprint\u001b[0m\u001b[0;34m(\u001b[0m\u001b[0;34m\"🌍 Public URL:\"\u001b[0m\u001b[0;34m,\u001b[0m \u001b[0mpublic_url\u001b[0m\u001b[0;34m)\u001b[0m\u001b[0;34m\u001b[0m\u001b[0;34m\u001b[0m\u001b[0m\n\u001b[1;32m      7\u001b[0m \u001b[0;34m\u001b[0m\u001b[0m\n",
            "\u001b[0;32m/usr/local/lib/python3.12/dist-packages/pyngrok/ngrok.py\u001b[0m in \u001b[0;36mconnect\u001b[0;34m(addr, proto, name, pyngrok_config, **options)\u001b[0m\n\u001b[1;32m    383\u001b[0m     \u001b[0mlogger\u001b[0m\u001b[0;34m.\u001b[0m\u001b[0minfo\u001b[0m\u001b[0;34m(\u001b[0m\u001b[0;34mf\"Opening tunnel named: {name}\"\u001b[0m\u001b[0;34m)\u001b[0m\u001b[0;34m\u001b[0m\u001b[0;34m\u001b[0m\u001b[0m\n\u001b[1;32m    384\u001b[0m \u001b[0;34m\u001b[0m\u001b[0m\n\u001b[0;32m--> 385\u001b[0;31m     \u001b[0mapi_url\u001b[0m \u001b[0;34m=\u001b[0m \u001b[0mget_ngrok_process\u001b[0m\u001b[0;34m(\u001b[0m\u001b[0mpyngrok_config\u001b[0m\u001b[0;34m)\u001b[0m\u001b[0;34m.\u001b[0m\u001b[0mapi_url\u001b[0m\u001b[0;34m\u001b[0m\u001b[0;34m\u001b[0m\u001b[0m\n\u001b[0m\u001b[1;32m    386\u001b[0m \u001b[0;34m\u001b[0m\u001b[0m\n\u001b[1;32m    387\u001b[0m     \u001b[0mlogger\u001b[0m\u001b[0;34m.\u001b[0m\u001b[0mdebug\u001b[0m\u001b[0;34m(\u001b[0m\u001b[0;34mf\"Creating tunnel with options: {options}\"\u001b[0m\u001b[0;34m)\u001b[0m\u001b[0;34m\u001b[0m\u001b[0;34m\u001b[0m\u001b[0m\n",
            "\u001b[0;32m/usr/local/lib/python3.12/dist-packages/pyngrok/ngrok.py\u001b[0m in \u001b[0;36mget_ngrok_process\u001b[0;34m(pyngrok_config)\u001b[0m\n\u001b[1;32m    201\u001b[0m     \u001b[0minstall_ngrok\u001b[0m\u001b[0;34m(\u001b[0m\u001b[0mpyngrok_config\u001b[0m\u001b[0;34m)\u001b[0m\u001b[0;34m\u001b[0m\u001b[0;34m\u001b[0m\u001b[0m\n\u001b[1;32m    202\u001b[0m \u001b[0;34m\u001b[0m\u001b[0m\n\u001b[0;32m--> 203\u001b[0;31m     \u001b[0;32mreturn\u001b[0m \u001b[0mprocess\u001b[0m\u001b[0;34m.\u001b[0m\u001b[0mget_process\u001b[0m\u001b[0;34m(\u001b[0m\u001b[0mpyngrok_config\u001b[0m\u001b[0;34m)\u001b[0m\u001b[0;34m\u001b[0m\u001b[0;34m\u001b[0m\u001b[0m\n\u001b[0m\u001b[1;32m    204\u001b[0m \u001b[0;34m\u001b[0m\u001b[0m\n\u001b[1;32m    205\u001b[0m \u001b[0;34m\u001b[0m\u001b[0m\n",
            "\u001b[0;32m/usr/local/lib/python3.12/dist-packages/pyngrok/process.py\u001b[0m in \u001b[0;36mget_process\u001b[0;34m(pyngrok_config)\u001b[0m\n\u001b[1;32m    269\u001b[0m         \u001b[0;32mreturn\u001b[0m \u001b[0m_current_processes\u001b[0m\u001b[0;34m[\u001b[0m\u001b[0mpyngrok_config\u001b[0m\u001b[0;34m.\u001b[0m\u001b[0mngrok_path\u001b[0m\u001b[0;34m]\u001b[0m\u001b[0;34m\u001b[0m\u001b[0;34m\u001b[0m\u001b[0m\n\u001b[1;32m    270\u001b[0m \u001b[0;34m\u001b[0m\u001b[0m\n\u001b[0;32m--> 271\u001b[0;31m     \u001b[0;32mreturn\u001b[0m \u001b[0m_start_process\u001b[0m\u001b[0;34m(\u001b[0m\u001b[0mpyngrok_config\u001b[0m\u001b[0;34m)\u001b[0m\u001b[0;34m\u001b[0m\u001b[0;34m\u001b[0m\u001b[0m\n\u001b[0m\u001b[1;32m    272\u001b[0m \u001b[0;34m\u001b[0m\u001b[0m\n\u001b[1;32m    273\u001b[0m \u001b[0;34m\u001b[0m\u001b[0m\n",
            "\u001b[0;32m/usr/local/lib/python3.12/dist-packages/pyngrok/process.py\u001b[0m in \u001b[0;36m_start_process\u001b[0;34m(pyngrok_config)\u001b[0m\n\u001b[1;32m    445\u001b[0m \u001b[0;34m\u001b[0m\u001b[0m\n\u001b[1;32m    446\u001b[0m         \u001b[0;32mif\u001b[0m \u001b[0mngrok_process\u001b[0m\u001b[0;34m.\u001b[0m\u001b[0mstartup_error\u001b[0m \u001b[0;32mis\u001b[0m \u001b[0;32mnot\u001b[0m \u001b[0;32mNone\u001b[0m\u001b[0;34m:\u001b[0m\u001b[0;34m\u001b[0m\u001b[0;34m\u001b[0m\u001b[0m\n\u001b[0;32m--> 447\u001b[0;31m             raise PyngrokNgrokError(f\"The ngrok process errored on start: {ngrok_process.startup_error}.\",\n\u001b[0m\u001b[1;32m    448\u001b[0m                                     \u001b[0mngrok_process\u001b[0m\u001b[0;34m.\u001b[0m\u001b[0mlogs\u001b[0m\u001b[0;34m,\u001b[0m\u001b[0;34m\u001b[0m\u001b[0;34m\u001b[0m\u001b[0m\n\u001b[1;32m    449\u001b[0m                                     ngrok_process.startup_error)\n",
            "\u001b[0;31mPyngrokNgrokError\u001b[0m: The ngrok process errored on start: authentication failed: Your account is limited to 1 simultaneous ngrok agent sessions.\\nYou can run multiple simultaneous tunnels from a single agent session by defining the tunnels in your agent configuration file and starting them with the command `ngrok start --all`.\\nRead more about the agent configuration file: https://ngrok.com/docs/secure-tunnels/ngrok-agent/reference/config\\nYou can view your current agent sessions in the dashboard:\\nhttps://dashboard.ngrok.com/agents\\r\\n\\r\\nERR_NGROK_108\\r\\n."
          ]
        }
      ]
    },
    {
      "cell_type": "code",
      "source": [],
      "metadata": {
        "id": "c4chsyGGePy4"
      },
      "execution_count": null,
      "outputs": []
    },
    {
      "cell_type": "markdown",
      "source": [
        "# Explanation"
      ],
      "metadata": {
        "id": "5qk_e-QT9zzm"
      }
    },
    {
      "cell_type": "markdown",
      "source": [
        "\n",
        "\n",
        "## 1️⃣ Install Dependencies\n",
        "\n",
        "```python\n",
        "!pip install flask pyngrok transformers sentencepiece torch --quiet\n",
        "```\n",
        "\n",
        "* `!pip install ...` → installs Python packages inside the Colab environment.\n",
        "* `flask` → lightweight Python web framework.\n",
        "* `pyngrok` → makes local web apps publicly accessible by creating a tunnel.\n",
        "* `transformers` → HuggingFace library for NLP (translation, summarization, etc.).\n",
        "* `sentencepiece` → tokenizer library (needed by translation models).\n",
        "* `torch` → PyTorch framework (runs the deep learning models).\n",
        "* `--quiet` → suppresses extra output during installation.\n",
        "\n",
        "---\n",
        "\n",
        "## 2️⃣ Create `app.py` (main Flask backend)\n",
        "\n",
        "```python\n",
        "%%writefile app.py\n",
        "```\n",
        "\n",
        "* Writes everything below into a new file named `app.py`.\n",
        "\n",
        "```python\n",
        "from flask import Flask, render_template, request\n",
        "```\n",
        "\n",
        "* Imports Flask:\n",
        "\n",
        "  * `Flask` → to create the web app.\n",
        "  * `render_template` → to display HTML files.\n",
        "  * `request` → to get form data from the user (text & language selection).\n",
        "\n",
        "```python\n",
        "from transformers import MarianMTModel, MarianTokenizer\n",
        "```\n",
        "\n",
        "* HuggingFace’s MarianMT translation models.\n",
        "* `MarianMTModel` → the neural network that does the actual translation.\n",
        "* `MarianTokenizer` → breaks sentences into tokens the model understands.\n",
        "\n",
        "```python\n",
        "import functools\n",
        "```\n",
        "\n",
        "* Python built-in module. We use it for **caching** to avoid reloading models again and again.\n",
        "\n",
        "```python\n",
        "app = Flask(__name__)\n",
        "```\n",
        "\n",
        "* Initializes the Flask app.\n",
        "\n",
        "---\n",
        "\n",
        "### Language Dictionary\n",
        "\n",
        "```python\n",
        "LANGS = {\n",
        "    \"English\": \"en\",\n",
        "    \"Hindi\": \"hi\",\n",
        "    \"French\": \"fr\",\n",
        "    \"Spanish\": \"es\",\n",
        "    \"German\": \"de\",\n",
        "    \"Italian\": \"it\",\n",
        "    \"Portuguese\": \"pt\",\n",
        "    \"Russian\": \"ru\",\n",
        "}\n",
        "```\n",
        "\n",
        "* A mapping between **human-friendly names** and **language codes**.\n",
        "* Example: `\"English\": \"en\"` → the model name will use `en` for English.\n",
        "\n",
        "---\n",
        "\n",
        "### Model Loading Function\n",
        "\n",
        "```python\n",
        "@functools.lru_cache(maxsize=20)\n",
        "def load_model(src, tgt):\n",
        "    model_name = f\"Helsinki-NLP/opus-mt-{src}-{tgt}\"\n",
        "    tokenizer = MarianTokenizer.from_pretrained(model_name)\n",
        "    model = MarianMTModel.from_pretrained(model_name)\n",
        "    return model, tokenizer\n",
        "```\n",
        "\n",
        "* `@functools.lru_cache(maxsize=20)` → caches the last 20 models in memory.\n",
        "  🔑 Benefit: faster response since model isn’t reloaded every request.\n",
        "\n",
        "* `model_name = f\"Helsinki-NLP/opus-mt-{src}-{tgt}\"`\n",
        "  Builds the HuggingFace model name dynamically. Example:\n",
        "  `Helsinki-NLP/opus-mt-en-hi` → English to Hindi model.\n",
        "\n",
        "* `MarianTokenizer.from_pretrained(model_name)` → loads the tokenizer.\n",
        "\n",
        "* `MarianMTModel.from_pretrained(model_name)` → loads the trained translation model.\n",
        "\n",
        "* Returns `(model, tokenizer)` pair for use in translation.\n",
        "\n",
        "---\n",
        "\n",
        "### Main Route (Homepage)\n",
        "\n",
        "```python\n",
        "@app.route(\"/\", methods=[\"GET\", \"POST\"])\n",
        "def home():\n",
        "    translation = \"\"\n",
        "```\n",
        "\n",
        "* Defines the route `/` (homepage).\n",
        "* Accepts both GET (normal page load) and POST (form submitted).\n",
        "* `translation = \"\"` initializes an empty translation.\n",
        "\n",
        "```python\n",
        "    if request.method == \"POST\":\n",
        "        src_lang = request.form[\"src_lang\"]\n",
        "        tgt_lang = request.form[\"tgt_lang\"]\n",
        "        text = request.form[\"text\"]\n",
        "```\n",
        "\n",
        "* If the user submits the form:\n",
        "\n",
        "  * `src_lang` → source language chosen.\n",
        "  * `tgt_lang` → target language chosen.\n",
        "  * `text` → text entered by the user.\n",
        "\n",
        "```python\n",
        "        try:\n",
        "            src_code = LANGS[src_lang]\n",
        "            tgt_code = LANGS[tgt_lang]\n",
        "            model, tokenizer = load_model(src_code, tgt_code)\n",
        "```\n",
        "\n",
        "* Converts user-friendly names (`English`) → short codes (`en`).\n",
        "* Loads the appropriate model & tokenizer.\n",
        "\n",
        "```python\n",
        "            inputs = tokenizer(text, return_tensors=\"pt\", padding=True)\n",
        "            translated_tokens = model.generate(**inputs, max_length=256)\n",
        "            translation = tokenizer.decode(translated_tokens[0], skip_special_tokens=True)\n",
        "```\n",
        "\n",
        "* Tokenizes input text into tensors PyTorch can process.\n",
        "* `model.generate(...)` → produces translated text tokens.\n",
        "* `decode(..., skip_special_tokens=True)` → converts tokens back into human-readable text, removing extra tokens like `<pad>`.\n",
        "\n",
        "```python\n",
        "        except Exception as e:\n",
        "            translation = f\"❌ Error: {e}\"\n",
        "```\n",
        "\n",
        "* If something goes wrong (like model missing), shows an error message.\n",
        "\n",
        "```python\n",
        "    return render_template(\"index.html\", langs=LANGS.keys(), translation=translation)\n",
        "```\n",
        "\n",
        "* Passes two things to `index.html`:\n",
        "\n",
        "  1. `langs=LANGS.keys()` → dropdown options for languages.\n",
        "  2. `translation` → the output text.\n",
        "\n",
        "---\n",
        "\n",
        "### Flask Runner\n",
        "\n",
        "```python\n",
        "if __name__ == \"__main__\":\n",
        "    app.run(host=\"0.0.0.0\", port=8000, debug=False)\n",
        "```\n",
        "\n",
        "* Runs Flask server on all interfaces (`0.0.0.0`), port `8000`.\n",
        "* `debug=False` → no debugging messages.\n",
        "\n",
        "---\n",
        "\n",
        "## 3️⃣ Create Templates and Static Folders\n",
        "\n",
        "```bash\n",
        "!mkdir -p templates\n",
        "!mkdir -p static\n",
        "```\n",
        "\n",
        "* `templates/` → stores HTML files.\n",
        "* `static/` → stores CSS/JS/images.\n",
        "\n",
        "---\n",
        "\n",
        "## 4️⃣ HTML File (`templates/index.html`)\n",
        "\n",
        "This is what users see in the browser.\n",
        "\n",
        "```html\n",
        "<!DOCTYPE html>\n",
        "<html>\n",
        "<head>\n",
        "    <title>🌍 Multilingual Translator</title>\n",
        "    <link rel=\"stylesheet\" href=\"{{ url_for('static', filename='style.css') }}\">\n",
        "</head>\n",
        "<body>\n",
        "```\n",
        "\n",
        "* Title + links CSS file from `static/style.css`.\n",
        "\n",
        "```html\n",
        "    <div class=\"container\">\n",
        "        <h1>🌍 Multilingual Translator</h1>\n",
        "        <form method=\"post\" class=\"card\">\n",
        "```\n",
        "\n",
        "* Big title and a form (`POST` method).\n",
        "\n",
        "```html\n",
        "            <label>Source Language:</label>\n",
        "            <select name=\"src_lang\">\n",
        "                {% for lang in langs %}\n",
        "                <option>{{ lang }}</option>\n",
        "                {% endfor %}\n",
        "            </select>\n",
        "```\n",
        "\n",
        "* Dropdown for source language.\n",
        "* `langs` is a list from Flask (`LANGS.keys()`).\n",
        "\n",
        "```html\n",
        "            <label>Target Language:</label>\n",
        "            <select name=\"tgt_lang\">\n",
        "                {% for lang in langs %}\n",
        "                <option>{{ lang }}</option>\n",
        "                {% endfor %}\n",
        "            </select>\n",
        "```\n",
        "\n",
        "* Dropdown for target language.\n",
        "\n",
        "```html\n",
        "            <textarea name=\"text\" rows=\"5\" placeholder=\"Enter text here...\"></textarea>\n",
        "            <button type=\"submit\">Translate 🚀</button>\n",
        "        </form>\n",
        "```\n",
        "\n",
        "* User enters text and clicks \"Translate 🚀\".\n",
        "\n",
        "```html\n",
        "        {% if translation %}\n",
        "        <div class=\"result\">\n",
        "            <h2>✅ Translation:</h2>\n",
        "            <p>{{ translation }}</p>\n",
        "        </div>\n",
        "        {% endif %}\n",
        "```\n",
        "\n",
        "* If translation exists, display it.\n",
        "\n",
        "---\n",
        "\n",
        "## 5️⃣ CSS Styling (`static/style.css`)\n",
        "\n",
        "* Dark gradient background.\n",
        "* Centered content.\n",
        "* Card with rounded edges and shadow.\n",
        "* Dropdowns, text box, button styled nicely.\n",
        "* Button hover effect.\n",
        "\n",
        "---\n",
        "\n",
        "## 6️⃣ Run Flask + Ngrok\n",
        "\n",
        "```python\n",
        "!pkill -f flask || echo \"No flask running\"\n",
        "!pkill -f ngrok || echo \"No ngrok running\"\n",
        "```\n",
        "\n",
        "* Kill old Flask/ngrok processes.\n",
        "\n",
        "```python\n",
        "!nohup python app.py > flask.log 2>&1 &\n",
        "```\n",
        "\n",
        "* Run Flask in the background.\n",
        "* Logs are written to `flask.log`.\n",
        "\n",
        "```python\n",
        "from pyngrok import ngrok, conf\n",
        "conf.get_default().auth_token = \"YOUR_AUTH_TOKEN\"\n",
        "\n",
        "public_url = ngrok.connect(8000)\n",
        "print(\"🌍 Public URL:\", public_url)\n",
        "```\n",
        "\n",
        "* Authenticates Ngrok with your token.\n",
        "* Exposes Flask app running on port 8000 to the internet.\n",
        "* Gives a **public URL** you can share with students.\n",
        "\n",
        "```python\n",
        "!sleep 3 && tail -n 20 flask.log\n",
        "```\n",
        "\n",
        "* Waits 3 seconds and prints last 20 lines of Flask log for debugging.\n",
        "\n",
        "---\n",
        "\n",
        "✅ **Final Flow to Explain to Students**\n",
        "\n",
        "1. User opens translator in browser.\n",
        "2. Chooses source & target language.\n",
        "3. Enters text → hits **Translate 🚀**.\n",
        "4. Flask gets request → loads HuggingFace translation model.\n",
        "5. Model processes text → returns translation.\n",
        "6. Page displays translated text beautifully.\n",
        "\n",
        "---\n",
        "\n",
        "\n"
      ],
      "metadata": {
        "id": "xi9uOczO923m"
      }
    },
    {
      "cell_type": "code",
      "source": [],
      "metadata": {
        "id": "w1GuGg4398rm"
      },
      "execution_count": null,
      "outputs": []
    }
  ]
}